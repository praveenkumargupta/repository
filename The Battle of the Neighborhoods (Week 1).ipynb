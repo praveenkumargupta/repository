{
    "cells": [
        {
            "cell_type": "markdown",
            "metadata": {
                "collapsed": true
            },
            "source": "# Capstone Project - The Battle of the Neighborhoods (Week 1)\n### Applied Data Science Capstone by IBM/Coursera"
        },
        {
            "cell_type": "markdown",
            "metadata": {},
            "source": "## Introduction: Business Problem"
        },
        {
            "cell_type": "markdown",
            "metadata": {},
            "source": "In this project we will try to find a location for a restaurant. This report will provide recommendation to the stakeholders interested in opening a **restaurant** in **Bangalore**, India.\n\nAs part of this analysis, I will try to find **locations with low density of restaurants** and which are **close to city**.\n\nwe will utilize data science to find few neighborhoods based on this criteria. Advantages of each area will then be clearly expressed so that best possible final location can be chosen by stakeholders."
        },
        {
            "cell_type": "markdown",
            "metadata": {},
            "source": "## Data"
        },
        {
            "cell_type": "markdown",
            "metadata": {},
            "source": "Based on definition of problem, factors that will influence our decission are:\n* number of existing restaurants in the neighborhood (any type of restaurant)\n* distance of neighborhood from city\n\nI have decided to use regularly spaced grid of locations, centered around city center, to define neighborhoods.\n\nFollowing data sources will be needed to extract/generate the required information:\n* centers of candidate areas will be generated algorithmically and approximate addresses of centers of those areas will be obtained using **geopy geocoder API**\n* number of restaurants and location in every neighborhood will be obtained using **Foursquare API**\n* coordinate of Bangalore city will be obtained using **geopy geocoder API** of well known location (Koramangala)"
        }
    ],
    "metadata": {
        "kernelspec": {
            "display_name": "Python 3.6",
            "language": "python",
            "name": "python3"
        },
        "language_info": {
            "codemirror_mode": {
                "name": "ipython",
                "version": 3
            },
            "file_extension": ".py",
            "mimetype": "text/x-python",
            "name": "python",
            "nbconvert_exporter": "python",
            "pygments_lexer": "ipython3",
            "version": "3.6.9"
        }
    },
    "nbformat": 4,
    "nbformat_minor": 1
}